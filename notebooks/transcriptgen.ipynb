{
 "cells": [
  {
   "cell_type": "markdown",
   "source": [],
   "metadata": {
    "collapsed": false
   }
  },
  {
   "cell_type": "markdown",
   "source": [
    "# Transcript Generation\n",
    "\n",
    "Make up transcripts between an interviewer and a physician from different diverse locale in the US.\n",
    "\n",
    "## Requirements\n",
    "#### Packages\n",
    "This notebook runs with the following packages\n",
    "- python                        3.11\n",
    "- pandas                        2.3.3\n",
    "- langchain                     0.3.27\n",
    "- langchain-google-genai        2.1.12\n",
    "- langchain-openai              0.3.34\n",
    "\n",
    "#### Other requirements\n",
    "- Environment variable `OPENAI_API_KEY` for accessing OpenAI GPT models.  (gpt-4o or gpt-5 model families required for web search)\n",
    "- Environment variable `GEMINI_API_KEY` for accessing Google Gemini models."
   ],
   "metadata": {
    "collapsed": false
   }
  },
  {
   "cell_type": "code",
   "execution_count": 1,
   "outputs": [
    {
     "name": "stdout",
     "output_type": "stream",
     "text": [
      "Package                      Version\r\n",
      "---------------------------- --------------\r\n",
      "annotated-types              0.7.0\r\n",
      "anyio                        4.11.0\r\n",
      "appnope                      0.1.4\r\n",
      "argon2-cffi                  25.1.0\r\n",
      "argon2-cffi-bindings         25.1.0\r\n",
      "arrow                        1.3.0\r\n",
      "asttokens                    3.0.0\r\n",
      "async-lru                    2.0.5\r\n",
      "attrs                        25.3.0\r\n",
      "babel                        2.17.0\r\n",
      "beautifulsoup4               4.14.2\r\n",
      "bleach                       6.2.0\r\n",
      "cachetools                   6.2.0\r\n",
      "certifi                      2025.8.3\r\n",
      "cffi                         2.0.0\r\n",
      "charset-normalizer           3.4.3\r\n",
      "comm                         0.2.3\r\n",
      "debugpy                      1.8.17\r\n",
      "decorator                    5.2.1\r\n",
      "defusedxml                   0.7.1\r\n",
      "distro                       1.9.0\r\n",
      "executing                    2.2.1\r\n",
      "fastjsonschema               2.21.2\r\n",
      "filelock                     3.19.1\r\n",
      "filetype                     1.2.0\r\n",
      "fqdn                         1.5.1\r\n",
      "fsspec                       2025.9.0\r\n",
      "google-ai-generativelanguage 0.7.0\r\n",
      "google-api-core              2.25.2\r\n",
      "google-auth                  2.41.1\r\n",
      "googleapis-common-protos     1.70.0\r\n",
      "grpcio                       1.75.1\r\n",
      "grpcio-status                1.75.1\r\n",
      "h11                          0.16.0\r\n",
      "hf-xet                       1.1.10\r\n",
      "httpcore                     1.0.9\r\n",
      "httpx                        0.28.1\r\n",
      "huggingface-hub              0.35.3\r\n",
      "idna                         3.10\r\n",
      "ipykernel                    6.30.1\r\n",
      "ipython                      9.6.0\r\n",
      "ipython_pygments_lexers      1.1.1\r\n",
      "ipywidgets                   8.1.7\r\n",
      "isoduration                  20.11.0\r\n",
      "jedi                         0.19.2\r\n",
      "Jinja2                       3.1.6\r\n",
      "jiter                        0.11.0\r\n",
      "json5                        0.12.1\r\n",
      "jsonpatch                    1.33\r\n",
      "jsonpointer                  3.0.0\r\n",
      "jsonschema                   4.25.1\r\n",
      "jsonschema-specifications    2025.9.1\r\n",
      "jupyter                      1.1.1\r\n",
      "jupyter_client               8.6.3\r\n",
      "jupyter-console              6.6.3\r\n",
      "jupyter_core                 5.8.1\r\n",
      "jupyter-events               0.12.0\r\n",
      "jupyter-lsp                  2.3.0\r\n",
      "jupyter_server               2.17.0\r\n",
      "jupyter_server_terminals     0.5.3\r\n",
      "jupyterlab                   4.4.9\r\n",
      "jupyterlab_pygments          0.3.0\r\n",
      "jupyterlab_server            2.27.3\r\n",
      "jupyterlab_widgets           3.0.15\r\n",
      "langchain                    0.3.27\r\n",
      "langchain-core               0.3.77\r\n",
      "langchain-google-genai       2.1.12\r\n",
      "langchain-openai             0.3.34\r\n",
      "langchain-text-splitters     0.3.11\r\n",
      "langsmith                    0.4.32\r\n",
      "lark                         1.3.0\r\n",
      "MarkupSafe                   3.0.3\r\n",
      "matplotlib-inline            0.1.7\r\n",
      "mistune                      3.1.4\r\n",
      "mpmath                       1.3.0\r\n",
      "nbclient                     0.10.2\r\n",
      "nbconvert                    7.16.6\r\n",
      "nbformat                     5.10.4\r\n",
      "nest-asyncio                 1.6.0\r\n",
      "networkx                     3.5\r\n",
      "notebook                     7.4.7\r\n",
      "notebook_shim                0.2.4\r\n",
      "numpy                        2.3.3\r\n",
      "openai                       2.1.0\r\n",
      "orjson                       3.11.3\r\n",
      "overrides                    7.7.0\r\n",
      "packaging                    25.0\r\n",
      "pandas                       2.3.3\r\n",
      "pandocfilters                1.5.1\r\n",
      "parso                        0.8.5\r\n",
      "pexpect                      4.9.0\r\n",
      "pip                          25.2\r\n",
      "platformdirs                 4.4.0\r\n",
      "prometheus_client            0.23.1\r\n",
      "prompt_toolkit               3.0.52\r\n",
      "proto-plus                   1.26.1\r\n",
      "protobuf                     6.32.1\r\n",
      "psutil                       7.1.0\r\n",
      "ptyprocess                   0.7.0\r\n",
      "pure_eval                    0.2.3\r\n",
      "pyarrow                      21.0.0\r\n",
      "pyasn1                       0.6.1\r\n",
      "pyasn1_modules               0.4.2\r\n",
      "pycparser                    2.23\r\n",
      "pydantic                     2.11.9\r\n",
      "pydantic_core                2.33.2\r\n",
      "Pygments                     2.19.2\r\n",
      "python-dateutil              2.9.0.post0\r\n",
      "python-json-logger           3.3.0\r\n",
      "pytz                         2025.2\r\n",
      "PyYAML                       6.0.3\r\n",
      "pyzmq                        27.1.0\r\n",
      "referencing                  0.36.2\r\n",
      "regex                        2025.9.18\r\n",
      "requests                     2.32.5\r\n",
      "requests-toolbelt            1.0.0\r\n",
      "rfc3339-validator            0.1.4\r\n",
      "rfc3986-validator            0.1.1\r\n",
      "rfc3987-syntax               1.1.0\r\n",
      "rpds-py                      0.27.1\r\n",
      "rsa                          4.9.1\r\n",
      "safetensors                  0.6.2\r\n",
      "Send2Trash                   1.8.3\r\n",
      "setuptools                   65.5.0\r\n",
      "six                          1.17.0\r\n",
      "sniffio                      1.3.1\r\n",
      "soupsieve                    2.8\r\n",
      "SQLAlchemy                   2.0.43\r\n",
      "stack-data                   0.6.3\r\n",
      "sympy                        1.14.0\r\n",
      "tenacity                     9.1.2\r\n",
      "terminado                    0.18.1\r\n",
      "tiktoken                     0.11.0\r\n",
      "tinycss2                     1.4.0\r\n",
      "tokenizers                   0.22.1\r\n",
      "torch                        2.8.0\r\n",
      "tornado                      6.5.2\r\n",
      "tqdm                         4.67.1\r\n",
      "traitlets                    5.14.3\r\n",
      "transformers                 4.56.2\r\n",
      "types-python-dateutil        2.9.0.20250822\r\n",
      "typing_extensions            4.15.0\r\n",
      "typing-inspection            0.4.2\r\n",
      "tzdata                       2025.2\r\n",
      "uri-template                 1.3.0\r\n",
      "urllib3                      2.5.0\r\n",
      "wcwidth                      0.2.14\r\n",
      "webcolors                    24.11.1\r\n",
      "webencodings                 0.5.1\r\n",
      "websocket-client             1.8.0\r\n",
      "widgetsnbextension           4.0.14\r\n",
      "zstandard                    0.25.0\r\n",
      "Note: you may need to restart the kernel to use updated packages.\n"
     ]
    }
   ],
   "source": [
    "import pandas as pd\n",
    "\n",
    "import llms\n",
    "%pip list"
   ],
   "metadata": {
    "collapsed": false
   }
  },
  {
   "cell_type": "markdown",
   "source": [
    "## Set up Environment\n",
    "\n",
    "Setting up environment specific parameters.  Modify these to suit your local environment"
   ],
   "metadata": {
    "collapsed": false
   }
  },
  {
   "cell_type": "code",
   "execution_count": 2,
   "outputs": [],
   "source": [
    "# Locations of the data sources\n",
    "#\n",
    "\n",
    "data_root = \"../data\"         # Directory to the data\n"
   ],
   "metadata": {
    "collapsed": false
   }
  },
  {
   "cell_type": "code",
   "execution_count": 3,
   "outputs": [],
   "source": [
    "# Tweak these values\n",
    "\n",
    "# Physician specialty\n",
    "specialty = \"pulmonologist\"\n",
    "\n",
    "# Disease or condition to discuss\n",
    "disease = \"COPD\"\n",
    "\n",
    "# Number of questions in the interview\n",
    "num_questions = 30\n",
    "\n",
    "# Number of physicians\n",
    "num_physicians = 20\n",
    "\n",
    "# LLM Model to use\n",
    "model_name = \"gpt-4o\"\n",
    "# model_name = \"gpt-5\"\n",
    "# model_name = \"gemini-2.0\"\n",
    "# model_name = \"gemini-2.5\""
   ],
   "metadata": {
    "collapsed": false
   }
  },
  {
   "cell_type": "code",
   "execution_count": 44,
   "outputs": [],
   "source": [
    "# Minor variables to tweak\n",
    "\n",
    "# How many questions to ask the LLM at a time.  (Larger values cause LLM to answer briefly.)\n",
    "question_chunk_size = 5"
   ],
   "metadata": {
    "collapsed": false
   }
  },
  {
   "cell_type": "code",
   "execution_count": 4,
   "outputs": [],
   "source": [
    "# These are steps in this notebook that we want to force refreshing.\n",
    "# Many of the steps are time-consuming, so I save their results in the data directory.\n",
    "# If the saved results exists, I will reload them instead of recalculating them.\n",
    "# Setting any of the steps to True forces the code to recalculate the result for that step.\n",
    "steps = {\n",
    "    \"physician_profile\": False,  # Recreate physician profiles from diverse locales in the US\n",
    "    \"questionnaire\": False,      # Regenerate interview questions\n",
    "    \"transcripts\": False,        # Erase existing transcripts and start over\n",
    "}\n",
    "\n",
    "def refresh(what: str):\n",
    "    return what in steps and steps[what]\n"
   ],
   "metadata": {
    "collapsed": false
   }
  },
  {
   "cell_type": "markdown",
   "source": [
    "## Initialization"
   ],
   "metadata": {
    "collapsed": false
   }
  },
  {
   "cell_type": "code",
   "execution_count": 5,
   "outputs": [],
   "source": [
    "from pathlib import Path\n",
    "\n",
    "# Set up data directories\n",
    "data_dir = Path(data_root) / specialty / disease\n",
    "data_dir.mkdir(parents=True, exist_ok=True)\n",
    "\n",
    "physician_profiles = data_dir / \"physicians.parquet\"\n",
    "questionnaire = data_dir / \"questionnaire.txt\""
   ],
   "metadata": {
    "collapsed": false
   }
  },
  {
   "cell_type": "code",
   "execution_count": 6,
   "outputs": [],
   "source": [
    "import llms\n",
    "\n",
    "# Set up LLM interface\n",
    "bot = llms.of(\"gpt-4o\")"
   ],
   "metadata": {
    "collapsed": false
   }
  },
  {
   "cell_type": "markdown",
   "source": [
    "## Create Physician Profiles\n",
    "\n",
    "Make up physicians from diverse locale in the US"
   ],
   "metadata": {
    "collapsed": false
   }
  },
  {
   "cell_type": "code",
   "execution_count": 7,
   "outputs": [],
   "source": [
    "physician_prompt = f\"\"\"\n",
    "<task>\n",
    "Generate a mock dataset of {num_physicians} {specialty} physicians practicing in diverse regions across the United States.\n",
    "</task>\n",
    "\n",
    "<instructions>\n",
    "- Use web search or external knowledge to identify a variety of U.S. ZIP codes and locations with different demographics (e.g., urban, rural, coastal, Midwest, South).\n",
    "- For each physician:\n",
    "  * Assign a plausible name (fictional, but realistic).\n",
    "  * Specify gender and years in practice (e.g., \"12 years\").\n",
    "  * Provide the physician’s ZIP code, city, and state.\n",
    "  * Summarize key local demographics (e.g., age distribution, socioeconomic factors, ethnic diversity).\n",
    "  * Describe potential implications for how {disease} may be treated or managed in that region, noting similarities and differences across locales.\n",
    "- Ensure diversity across the dataset in geography, demographics, and care implications.\n",
    "- Output only valid JSON (a list of physician objects) with the following fields:\n",
    "  - zip_code\n",
    "  - location\n",
    "  - key_demographics\n",
    "  - {disease}_care_implications\n",
    "  - doctor_name\n",
    "  - gender\n",
    "  - years_in_practice\n",
    "- Do not include ```json or any code block delimiters.\n",
    "- Do not include explanations, comments, or extra text.\n",
    "</instructions>\n",
    "\"\"\""
   ],
   "metadata": {
    "collapsed": false
   }
  },
  {
   "cell_type": "code",
   "execution_count": 8,
   "outputs": [
    {
     "data": {
      "text/plain": "'../data/pulmonologist/COPD/physicians.parquet'"
     },
     "execution_count": 8,
     "metadata": {},
     "output_type": "execute_result"
    }
   ],
   "source": [
    "str(physician_profiles)"
   ],
   "metadata": {
    "collapsed": false
   }
  },
  {
   "cell_type": "code",
   "execution_count": 10,
   "outputs": [
    {
     "name": "stdout",
     "output_type": "stream",
     "text": [
      "Read from existing ../data/pulmonologist/COPD/physicians.parquet\n"
     ]
    },
    {
     "data": {
      "text/plain": "   zip_code          location  \\\n0     33101         Miami, FL   \n1     10001      New York, NY   \n2     60601       Chicago, IL   \n3     90001   Los Angeles, CA   \n4     77001       Houston, TX   \n5     30301       Atlanta, GA   \n6     80201        Denver, CO   \n7     46201  Indianapolis, IN   \n8     98101       Seattle, WA   \n9     55301   Albertville, MN   \n10    85001       Phoenix, AZ   \n11    64101   Kansas City, MO   \n12    35201    Birmingham, AL   \n13    14201       Buffalo, NY   \n14    55401   Minneapolis, MN   \n15    75201        Dallas, TX   \n16    63101     St. Louis, MO   \n17    37201     Nashville, TN   \n18    19101  Philadelphia, PA   \n19    96801      Honolulu, HI   \n\n                                     key_demographics  \\\n0   High Hispanic population, diverse age range, s...   \n1   Highly urbanized, ethnically diverse, wide inc...   \n2   Diverse ethnic population, wide economic range...   \n3   Multi-ethnic, significant Hispanic and Asian c...   \n4   Ethnically diverse, Hispanic and African Ameri...   \n5   Large African American community, economic gro...   \n6   Young, active population, increasing diversity...   \n7   Rural-urban dynamic, middle-class dominance, w...   \n8   Ethnically diverse, tech-driven economy, envir...   \n9   Predominantly white community, high family ori...   \n10  Rapid population growth, Hispanic community, a...   \n11  Economic diversity, increasing Hispanic popula...   \n12  Significant African American community, indust...   \n13  Outward migration trend, older population, div...   \n14  Active lifestyle community, significant Somali...   \n15  Economic growth, significant Hispanic and Afri...   \n16  Urban revitalization, diverse age groups, sign...   \n17  Growing cultural scene, younger age demographi...   \n18  Historical diversity, economic challenges, sub...   \n19  Asian and Pacific Islander communities, touris...   \n\n                               COPD_care_implications          doctor_name  \\\n0   Treatment adaptation for diverse linguistic ba...   Dr. Sofia Martinez   \n1   Emphasis on advanced urban healthcare faciliti...       Dr. Ethan Chen   \n2   Focus on multi-generational care approaches; c...     Dr. Amanda Patel   \n3   Language services critical in COPD management;...     Dr. James Nguyen   \n4   Focus on industrial exposure implications; chr...     Dr. Claire Ahmed   \n5   Community health programs targeting high-risk ...   Dr. Robert Johnson   \n6   Consideration of altitude effects on respirato...    Dr. Lisa Thompson   \n7   Focus on transitioning outpatient care; rural ...        Dr. David Lee   \n8   Emphasis on digital health solutions; air qual...  Dr. Emily Rodriguez   \n9   Community-oriented COPD education and manageme...     Dr. Joseph Clark   \n10  Management of heat-related COPD exacerbations;...      Dr. Abigail Kim   \n11  Integration of community clinics for low-incom...    Dr. Kevin Roberts   \n12  Chronic disease management in industrial setti...    Dr. Natalie Green   \n13  Care strategies adapted for cold weather; inte...     Dr. Andrew Cohen   \n14  Customized care for refugee and immigrant comm...   Dr. Sarah Anderson   \n15  Expansion of bilingual resources; chronic expo...    Dr. Michael Brown   \n16  Focus on bridging care gaps in lower-income ar...    Dr. Olivia Martin   \n17  Engagement in community-based prevention and e...   Dr. Charles Wright   \n18  Health equity initiatives; historic pollution ...       Dr. Emma Davis   \n19  Management of COPD with focus on aging populat...  Dr. William Kealoha   \n\n    gender years_in_practice  \n0   Female          15 years  \n1     Male           8 years  \n2   Female          12 years  \n3     Male          10 years  \n4   Female          11 years  \n5     Male           9 years  \n6   Female           7 years  \n7     Male          13 years  \n8   Female          16 years  \n9     Male           5 years  \n10  Female          10 years  \n11    Male          14 years  \n12  Female           6 years  \n13    Male          18 years  \n14  Female           4 years  \n15    Male          17 years  \n16  Female           3 years  \n17    Male          20 years  \n18  Female          19 years  \n19    Male          22 years  ",
      "text/html": "<div>\n<style scoped>\n    .dataframe tbody tr th:only-of-type {\n        vertical-align: middle;\n    }\n\n    .dataframe tbody tr th {\n        vertical-align: top;\n    }\n\n    .dataframe thead th {\n        text-align: right;\n    }\n</style>\n<table border=\"1\" class=\"dataframe\">\n  <thead>\n    <tr style=\"text-align: right;\">\n      <th></th>\n      <th>zip_code</th>\n      <th>location</th>\n      <th>key_demographics</th>\n      <th>COPD_care_implications</th>\n      <th>doctor_name</th>\n      <th>gender</th>\n      <th>years_in_practice</th>\n    </tr>\n  </thead>\n  <tbody>\n    <tr>\n      <th>0</th>\n      <td>33101</td>\n      <td>Miami, FL</td>\n      <td>High Hispanic population, diverse age range, s...</td>\n      <td>Treatment adaptation for diverse linguistic ba...</td>\n      <td>Dr. Sofia Martinez</td>\n      <td>Female</td>\n      <td>15 years</td>\n    </tr>\n    <tr>\n      <th>1</th>\n      <td>10001</td>\n      <td>New York, NY</td>\n      <td>Highly urbanized, ethnically diverse, wide inc...</td>\n      <td>Emphasis on advanced urban healthcare faciliti...</td>\n      <td>Dr. Ethan Chen</td>\n      <td>Male</td>\n      <td>8 years</td>\n    </tr>\n    <tr>\n      <th>2</th>\n      <td>60601</td>\n      <td>Chicago, IL</td>\n      <td>Diverse ethnic population, wide economic range...</td>\n      <td>Focus on multi-generational care approaches; c...</td>\n      <td>Dr. Amanda Patel</td>\n      <td>Female</td>\n      <td>12 years</td>\n    </tr>\n    <tr>\n      <th>3</th>\n      <td>90001</td>\n      <td>Los Angeles, CA</td>\n      <td>Multi-ethnic, significant Hispanic and Asian c...</td>\n      <td>Language services critical in COPD management;...</td>\n      <td>Dr. James Nguyen</td>\n      <td>Male</td>\n      <td>10 years</td>\n    </tr>\n    <tr>\n      <th>4</th>\n      <td>77001</td>\n      <td>Houston, TX</td>\n      <td>Ethnically diverse, Hispanic and African Ameri...</td>\n      <td>Focus on industrial exposure implications; chr...</td>\n      <td>Dr. Claire Ahmed</td>\n      <td>Female</td>\n      <td>11 years</td>\n    </tr>\n    <tr>\n      <th>5</th>\n      <td>30301</td>\n      <td>Atlanta, GA</td>\n      <td>Large African American community, economic gro...</td>\n      <td>Community health programs targeting high-risk ...</td>\n      <td>Dr. Robert Johnson</td>\n      <td>Male</td>\n      <td>9 years</td>\n    </tr>\n    <tr>\n      <th>6</th>\n      <td>80201</td>\n      <td>Denver, CO</td>\n      <td>Young, active population, increasing diversity...</td>\n      <td>Consideration of altitude effects on respirato...</td>\n      <td>Dr. Lisa Thompson</td>\n      <td>Female</td>\n      <td>7 years</td>\n    </tr>\n    <tr>\n      <th>7</th>\n      <td>46201</td>\n      <td>Indianapolis, IN</td>\n      <td>Rural-urban dynamic, middle-class dominance, w...</td>\n      <td>Focus on transitioning outpatient care; rural ...</td>\n      <td>Dr. David Lee</td>\n      <td>Male</td>\n      <td>13 years</td>\n    </tr>\n    <tr>\n      <th>8</th>\n      <td>98101</td>\n      <td>Seattle, WA</td>\n      <td>Ethnically diverse, tech-driven economy, envir...</td>\n      <td>Emphasis on digital health solutions; air qual...</td>\n      <td>Dr. Emily Rodriguez</td>\n      <td>Female</td>\n      <td>16 years</td>\n    </tr>\n    <tr>\n      <th>9</th>\n      <td>55301</td>\n      <td>Albertville, MN</td>\n      <td>Predominantly white community, high family ori...</td>\n      <td>Community-oriented COPD education and manageme...</td>\n      <td>Dr. Joseph Clark</td>\n      <td>Male</td>\n      <td>5 years</td>\n    </tr>\n    <tr>\n      <th>10</th>\n      <td>85001</td>\n      <td>Phoenix, AZ</td>\n      <td>Rapid population growth, Hispanic community, a...</td>\n      <td>Management of heat-related COPD exacerbations;...</td>\n      <td>Dr. Abigail Kim</td>\n      <td>Female</td>\n      <td>10 years</td>\n    </tr>\n    <tr>\n      <th>11</th>\n      <td>64101</td>\n      <td>Kansas City, MO</td>\n      <td>Economic diversity, increasing Hispanic popula...</td>\n      <td>Integration of community clinics for low-incom...</td>\n      <td>Dr. Kevin Roberts</td>\n      <td>Male</td>\n      <td>14 years</td>\n    </tr>\n    <tr>\n      <th>12</th>\n      <td>35201</td>\n      <td>Birmingham, AL</td>\n      <td>Significant African American community, indust...</td>\n      <td>Chronic disease management in industrial setti...</td>\n      <td>Dr. Natalie Green</td>\n      <td>Female</td>\n      <td>6 years</td>\n    </tr>\n    <tr>\n      <th>13</th>\n      <td>14201</td>\n      <td>Buffalo, NY</td>\n      <td>Outward migration trend, older population, div...</td>\n      <td>Care strategies adapted for cold weather; inte...</td>\n      <td>Dr. Andrew Cohen</td>\n      <td>Male</td>\n      <td>18 years</td>\n    </tr>\n    <tr>\n      <th>14</th>\n      <td>55401</td>\n      <td>Minneapolis, MN</td>\n      <td>Active lifestyle community, significant Somali...</td>\n      <td>Customized care for refugee and immigrant comm...</td>\n      <td>Dr. Sarah Anderson</td>\n      <td>Female</td>\n      <td>4 years</td>\n    </tr>\n    <tr>\n      <th>15</th>\n      <td>75201</td>\n      <td>Dallas, TX</td>\n      <td>Economic growth, significant Hispanic and Afri...</td>\n      <td>Expansion of bilingual resources; chronic expo...</td>\n      <td>Dr. Michael Brown</td>\n      <td>Male</td>\n      <td>17 years</td>\n    </tr>\n    <tr>\n      <th>16</th>\n      <td>63101</td>\n      <td>St. Louis, MO</td>\n      <td>Urban revitalization, diverse age groups, sign...</td>\n      <td>Focus on bridging care gaps in lower-income ar...</td>\n      <td>Dr. Olivia Martin</td>\n      <td>Female</td>\n      <td>3 years</td>\n    </tr>\n    <tr>\n      <th>17</th>\n      <td>37201</td>\n      <td>Nashville, TN</td>\n      <td>Growing cultural scene, younger age demographi...</td>\n      <td>Engagement in community-based prevention and e...</td>\n      <td>Dr. Charles Wright</td>\n      <td>Male</td>\n      <td>20 years</td>\n    </tr>\n    <tr>\n      <th>18</th>\n      <td>19101</td>\n      <td>Philadelphia, PA</td>\n      <td>Historical diversity, economic challenges, sub...</td>\n      <td>Health equity initiatives; historic pollution ...</td>\n      <td>Dr. Emma Davis</td>\n      <td>Female</td>\n      <td>19 years</td>\n    </tr>\n    <tr>\n      <th>19</th>\n      <td>96801</td>\n      <td>Honolulu, HI</td>\n      <td>Asian and Pacific Islander communities, touris...</td>\n      <td>Management of COPD with focus on aging populat...</td>\n      <td>Dr. William Kealoha</td>\n      <td>Male</td>\n      <td>22 years</td>\n    </tr>\n  </tbody>\n</table>\n</div>"
     },
     "execution_count": 10,
     "metadata": {},
     "output_type": "execute_result"
    }
   ],
   "source": [
    "import json\n",
    "import pandas as pd\n",
    "\n",
    "if not physician_profiles.is_file() or refresh(\"physician_profile\"):\n",
    "    print(\"(re)create physician profiles\")\n",
    "    answer = bot.invoke(physician_prompt)\n",
    "\n",
    "    physicians_df = pd.json_normalize(json.loads(answer[\"content\"]))\n",
    "    physicians_df.to_parquet(physician_profiles)\n",
    "\n",
    "else:\n",
    "    print(f\"Read from existing {physician_profiles}\")\n",
    "    physicians_df = pd.read_parquet(physician_profiles)\n",
    "\n",
    "physicians_df"
   ],
   "metadata": {
    "collapsed": false
   }
  },
  {
   "cell_type": "markdown",
   "source": [
    "## Generate Questionnaire\n",
    "\n",
    "Create a questionnaire for the interviewer"
   ],
   "metadata": {
    "collapsed": false
   }
  },
  {
   "cell_type": "code",
   "execution_count": 23,
   "outputs": [],
   "source": [
    "questionnaire_prompt = f\"\"\"\n",
    "<task>\n",
    "Generate at least {num_questions} realistic interview questions for an interviewer to ask a {specialty} about their practices in managing {disease}.\n",
    "</task>\n",
    "\n",
    "<instructions>\n",
    "- Use web search or external knowledge to reflect current standards, challenges, and emerging trends in {disease} care.\n",
    "- Cover a broad range of themes, including: diagnosis methods, treatment options, patient management, preventive strategies, health disparities, and relevant public health policies.\n",
    "- Phrase each question exactly as it would be spoken in an interview.\n",
    "- Ensure questions are clear, self-contained, and understandable without additional context.\n",
    "- Arrange the questions so that consecutive items naturally build on or complement each other.\n",
    "- Output format:\n",
    "  * Plain text only\n",
    "  * One question per line\n",
    "  * No numbering, bullet points, or extra characters\n",
    "  * No explanations, comments, or code fences\n",
    "- Include the questions in the examples\n",
    "</instructions>\n",
    "\n",
    "<examples>\n",
    "How do you typically approach a new patient presenting with {disease}?\n",
    "What is your preferred first-line treatment and why?\n",
    "What has been your experience with [a_drug_name] in managing {disease}?\n",
    "</examples>\n",
    "\"\"\"\n"
   ],
   "metadata": {
    "collapsed": false
   }
  },
  {
   "cell_type": "code",
   "execution_count": 25,
   "outputs": [
    {
     "name": "stdout",
     "output_type": "stream",
     "text": [
      "Read questions from existing ../data/pulmonologist/COPD/questionnaire.txt\n"
     ]
    },
    {
     "data": {
      "text/plain": "['Can you walk us through the process of diagnosing COPD in a new patient?',\n 'What criteria do you use to differentiate between asthma and COPD during diagnosis?',\n 'How has spirometry evolved and what role does it play in your COPD diagnostic process?',\n 'How do you incorporate the GOLD guidelines into your treatment plans for COPD patients?',\n 'What are some of the most effective medications currently used in managing COPD and why?',\n 'How do you decide when to escalate treatment in a COPD patient?',\n 'What role do inhaled corticosteroids play in COPD management in your practice?',\n 'How do you address and manage comorbid conditions in COPD patients?',\n 'How effective have you found oxygen therapy in improving patient outcomes?',\n 'What are some of the surgical options available for COPD and when do you consider them suitable?',\n 'How do you monitor COPD patients to prevent exacerbations?',\n 'What lifestyle changes do you advise your patients with COPD to adopt?',\n 'How do you handle patients who continue to smoke despite their COPD diagnosis?',\n 'What strategies do you use to ensure medication adherence among your COPD patients?',\n 'How often do you recommend follow-up visits for stable COPD patients?',\n 'Can you discuss the role of pulmonary rehabilitation in COPD management?',\n 'What measures do you employ to prevent hospital readmissions for COPD patients?',\n 'How do you incorporate mental health support into your care plans for COPD patients?',\n 'What impact do social determinants of health have on your management of COPD?',\n 'Can you discuss any health disparities you’ve observed in COPD care and how you address them?',\n 'How do you address the issue of air quality and environmental factors with your COPD patients?',\n 'What role does telemedicine play in your management of COPD patients?',\n 'How do you stay updated with the latest COPD research and integrate new findings into your practice?',\n 'What are your thoughts on the potential of biologic treatments for COPD?',\n 'How do you assess and manage potential drug interactions in polypharmacy for COPD patients?',\n 'What patient education tools have you found most effective in managing COPD?',\n 'What preventive strategies do you recommend to patients at risk of developing COPD?',\n 'How do you approach vaccinations in the context of COPD management?',\n 'What insights do you have on the long-term management of COPD in older adults?',\n 'How do current public health policies impact your practice in managing COPD?']"
     },
     "execution_count": 25,
     "metadata": {},
     "output_type": "execute_result"
    }
   ],
   "source": [
    "if not questionnaire.is_file() or refresh(\"questionnaire\"):\n",
    "    print(\"(re)create the questionnaire\")\n",
    "    answer = bot.invoke(questionnaire_prompt)\n",
    "\n",
    "    questions = [q.strip() for q in answer[\"content\"].split(\"\\n\") if q]\n",
    "    questionnaire.write_text(answer[\"content\"])\n",
    "\n",
    "else:\n",
    "    print(f\"Read questions from existing {questionnaire}\")\n",
    "    questions = [q.strip() for q in questionnaire.read_text().split(\"\\n\") if q]\n",
    "\n",
    "questions"
   ],
   "metadata": {
    "collapsed": false
   }
  },
  {
   "cell_type": "markdown",
   "source": [
    "## Generate Transcripts\n",
    "\n",
    "Mock up transcripts"
   ],
   "metadata": {
    "collapsed": false
   }
  },
  {
   "cell_type": "code",
   "execution_count": 52,
   "outputs": [],
   "source": [
    "transcript_system_prompt = f\"\"\"\n",
    "<task>\n",
    "Simulate a realistic interview transcript between an interviewer and a {specialty}, focusing on how the physician manages {disease} in their specific regional and demographic context.\n",
    "</task>\n",
    "\n",
    "<instructions>\n",
    "- Use web search or external medical knowledge to understand how regional demographics, socioeconomic factors, and healthcare infrastructure influence {disease} care in the physician’s area.\n",
    "- Incorporate these contextual factors naturally into the physician’s responses (e.g., access to care, climate, patient population characteristics, insurance coverage, public health resources, or cultural attitudes toward treatment).\n",
    "- The transcript must read as a natural, professional, back-and-forth conversation between the interviewer and the physician.\n",
    "- The physician’s replies should sound grounded in practice experience — balancing clinical knowledge, local realities, and personal insight.\n",
    "- Use the provided physician profile to guide tone, expertise, and geographic perspective.\n",
    "- The interviewer will ask roughly {num_questions} questions, provided iteratively by the user.\n",
    "- Maintain conversational continuity across iterations, referencing previous remarks where appropriate.\n",
    "- Rephrase, merge, or slightly expand user-provided questions when needed for smoother flow or deeper insight.\n",
    "- Only generate dialogue lines (no narration, commentary, or stage directions).\n",
    "- Use the following structure exactly:\n",
    "  Interviewer: [question or comment]\n",
    "  [doctor_name]: [response]\n",
    "- The user will mark the interview boundaries with [start interview] and [end interview].\n",
    "  Continue the conversation naturally between these markers as directed.\n",
    "</instructions>\n",
    "\n",
    "<doctor_profile>\n",
    "{{doctor_profile}}\n",
    "</doctor_profile>\n",
    "\"\"\"\n",
    "\n",
    "doctor_profile_essential_fields = [\"doctor_name\", \"gender\", \"years_in_practice\", \"location\", \"zip_code\"]\n"
   ],
   "metadata": {
    "collapsed": false
   }
  },
  {
   "cell_type": "code",
   "execution_count": 65,
   "outputs": [],
   "source": [
    "def get_doctor(index: int):\n",
    "    return physicians_df.iloc[index][doctor_profile_essential_fields]"
   ],
   "metadata": {
    "collapsed": false
   }
  },
  {
   "cell_type": "code",
   "execution_count": 69,
   "outputs": [],
   "source": [
    "from tqdm.notebook import tqdm\n",
    "\n",
    "def make_transcript(doctor_profile):\n",
    "    transcript = \"\"\n",
    "    transcript_prompt = [\n",
    "        (\"system\", transcript_system_prompt),\n",
    "    ]\n",
    "    doctor_name = doctor_profile['doctor_name']\n",
    "\n",
    "    for i in tqdm(range(0, len(questions), question_chunk_size), desc=f\"Interviewing {doctor_name}\"):\n",
    "        next_questions = questions[i: i + question_chunk_size]\n",
    "        start_interview = \"[start interview]\\n\" if i == 0 else \"\"\n",
    "        end_interview = \"[end interview]\\n\" if i + question_chunk_size >= len(questions) else \"\"\n",
    "        transcript_prompt.append((\"user\", start_interview + '\\n'.join(next_questions) + end_interview))\n",
    "\n",
    "        answer = bot.invoke(transcript_prompt, arguments={\"doctor_profile\": doctor_profile})\n",
    "\n",
    "        transcript_prompt.append((\"assistant\", answer[\"content\"]))\n",
    "        transcript += answer[\"content\"]\n",
    "\n",
    "    return transcript\n",
    "\n",
    "# Testing\n",
    "# make_transcript(get_doctor(0))"
   ],
   "metadata": {
    "collapsed": false
   }
  },
  {
   "cell_type": "code",
   "execution_count": 71,
   "outputs": [
    {
     "data": {
      "text/plain": "'Robert_Johnson_Atlanta_GA.txt'"
     },
     "execution_count": 71,
     "metadata": {},
     "output_type": "execute_result"
    }
   ],
   "source": [
    "def get_transcript_file_name(doctor_profile):\n",
    "    doctor_name = doctor_profile[\"doctor_name\"].replace(\"Dr.\", \"\").replace(\"MD\", \"\").strip()\n",
    "    return doctor_name.replace(\" \", \"_\") + '_' + doctor_profile[\"location\"].replace(\",\", \"\").replace(\" \", \"_\") + \".txt\"\n",
    "\n",
    "# get_transcript_file_name(get_doctor(5))"
   ],
   "metadata": {
    "collapsed": false
   }
  },
  {
   "cell_type": "code",
   "execution_count": 75,
   "outputs": [
    {
     "data": {
      "text/plain": "Physician Progress:   0%|          | 0/4 [00:00<?, ?it/s]",
      "application/vnd.jupyter.widget-view+json": {
       "version_major": 2,
       "version_minor": 0,
       "model_id": "d17123bf5aaf40d5944166198669e9e4"
      }
     },
     "metadata": {},
     "output_type": "display_data"
    },
    {
     "data": {
      "text/plain": "Interviewing Dr. James Nguyen:   0%|          | 0/6 [00:00<?, ?it/s]",
      "application/vnd.jupyter.widget-view+json": {
       "version_major": 2,
       "version_minor": 0,
       "model_id": "8679b671d053478886b7df0dce2b53ce"
      }
     },
     "metadata": {},
     "output_type": "display_data"
    }
   ],
   "source": [
    "import shutil\n",
    "\n",
    "transcript_dir = data_dir / \"transcripts\"\n",
    "\n",
    "if transcript_dir.is_dir() and refresh(\"transcripts\"):\n",
    "    shutil.rmtree(transcript_dir)\n",
    "\n",
    "transcript_dir.mkdir(parents=True, exist_ok=True)\n",
    "\n",
    "for i in tqdm(range(4), desc=\"Physician Progress\"):\n",
    "    doctor_profile = dict(get_doctor(i))\n",
    "    transcript_file = transcript_dir / get_transcript_file_name(doctor_profile)\n",
    "\n",
    "    if not transcript_file.is_file():\n",
    "        transcript = make_transcript(doctor_profile)\n",
    "        transcript_file.write_text(transcript)\n"
   ],
   "metadata": {
    "collapsed": false
   }
  }
 ],
 "metadata": {
  "kernelspec": {
   "display_name": "Python 3",
   "language": "python",
   "name": "python3"
  },
  "language_info": {
   "codemirror_mode": {
    "name": "ipython",
    "version": 2
   },
   "file_extension": ".py",
   "mimetype": "text/x-python",
   "name": "python",
   "nbconvert_exporter": "python",
   "pygments_lexer": "ipython2",
   "version": "2.7.6"
  }
 },
 "nbformat": 4,
 "nbformat_minor": 0
}
